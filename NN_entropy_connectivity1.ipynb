{
  "nbformat": 4,
  "nbformat_minor": 0,
  "metadata": {
    "colab": {
      "provenance": [],
      "authorship_tag": "ABX9TyPDIn5hi0SlOrtBuQNcaqBi",
      "include_colab_link": true
    },
    "kernelspec": {
      "name": "python3",
      "display_name": "Python 3"
    },
    "language_info": {
      "name": "python"
    }
  },
  "cells": [
    {
      "cell_type": "markdown",
      "metadata": {
        "id": "view-in-github",
        "colab_type": "text"
      },
      "source": [
        "<a href=\"https://colab.research.google.com/github/Razumovskyy/NN_connectivity_vs_entropy/blob/main/NN_entropy_connectivity1.ipynb\" target=\"_parent\"><img src=\"https://colab.research.google.com/assets/colab-badge.svg\" alt=\"Open In Colab\"/></a>"
      ]
    },
    {
      "cell_type": "code",
      "source": [
        "import itertools\n",
        "import random\n",
        "\n",
        "def generate_environment(N, h):\n",
        "  if h >= 2**N:\n",
        "    raise ValueError(\"number of unique patterns can't be greater than number of all patterns\")\n",
        "\n",
        "  all_patterns = list(itertools.product([0,1], repeat=N)) # repeat means how many times to make a cartesian product : [0,1] x [0,1] x ...\n",
        "  return random.sample(all_patterns, h)"
      ],
      "metadata": {
        "id": "q-8imJ7Sbkwb"
      },
      "execution_count": 1,
      "outputs": []
    },
    {
      "cell_type": "code",
      "source": [
        "def generate_env_set(num_environments, N, h):\n",
        "    environments = []\n",
        "    for _ in range(num_environments):\n",
        "        environment = generate_environment(N, h)\n",
        "        environments.append(environment)\n",
        "    return environments"
      ],
      "metadata": {
        "id": "8lnWumqnjLhm"
      },
      "execution_count": null,
      "outputs": []
    }
  ]
}