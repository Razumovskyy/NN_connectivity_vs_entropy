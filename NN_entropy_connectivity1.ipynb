{
  "nbformat": 4,
  "nbformat_minor": 0,
  "metadata": {
    "colab": {
      "provenance": [],
      "authorship_tag": "ABX9TyM4clI+VlNVgxKoVMSDnir9",
      "include_colab_link": true
    },
    "kernelspec": {
      "name": "python3",
      "display_name": "Python 3"
    },
    "language_info": {
      "name": "python"
    }
  },
  "cells": [
    {
      "cell_type": "markdown",
      "metadata": {
        "id": "view-in-github",
        "colab_type": "text"
      },
      "source": [
        "<a href=\"https://colab.research.google.com/github/Razumovskyy/NN_connectivity_vs_entropy/blob/main/NN_entropy_connectivity1.ipynb\" target=\"_parent\"><img src=\"https://colab.research.google.com/assets/colab-badge.svg\" alt=\"Open In Colab\"/></a>"
      ]
    },
    {
      "cell_type": "code",
      "source": [
        "import itertools\n",
        "import random"
      ],
      "metadata": {
        "id": "_yphxPCpwoO2"
      },
      "execution_count": 5,
      "outputs": []
    },
    {
      "cell_type": "code",
      "source": [
        "def generate_environment(N, h):\n",
        "  \"\"\"\n",
        "  The entropy is essentially: log_2 h\n",
        "  \"\"\"\n",
        "  if h >= 2**N:\n",
        "    raise ValueError(\"number of unique patterns can't be greater than number of all patterns\")\n",
        "\n",
        "  all_patterns = list(itertools.product([0,1], repeat=N)) # repeat means how many times to make a cartesian product : [0,1] x [0,1] x ...\n",
        "  return random.sample(all_patterns, h)"
      ],
      "metadata": {
        "id": "q-8imJ7Sbkwb"
      },
      "execution_count": 1,
      "outputs": []
    },
    {
      "cell_type": "code",
      "source": [
        "def generate_ensemble(num_environments, N, h): \n",
        "\n",
        "  \"\"\"\n",
        "  num_environments should be equal to C_{2**N}^h, which may be too execessive.\n",
        "  Because of the uniform distribution one can consider less number of envs in the ensemble for practical usage.\n",
        "  \"\"\"\n",
        "  environments = []\n",
        "  for _ in range(num_environments):\n",
        "      environment = generate_environment(N, h)\n",
        "      environments.append(environment)\n",
        "  return environments"
      ],
      "metadata": {
        "id": "8lnWumqnjLhm"
      },
      "execution_count": 6,
      "outputs": []
    },
    {
      "cell_type": "code",
      "source": [
        "def connectivity(N, alpha):\n",
        "  \"\"\"\n",
        "  alpha=alpha(N) and if N -> inf, then alpha -> alpha_0\n",
        "  \"\"\"\n",
        "  K = int(alpha * N)\n",
        "  return K"
      ],
      "metadata": {
        "id": "kgh0r_V2wteA"
      },
      "execution_count": 7,
      "outputs": []
    },
    {
      "cell_type": "code",
      "source": [
        "\"\"\"\n",
        "Here I define projection functions from the paper: n and nu. They express the amount of information that is available for neuron during learning.\n",
        "nu - is the normalized function n.\n",
        "\n",
        "vector a is \\in {0,1}^K\n",
        "projection functions should be calculated for all the vectors a !\n",
        "\"\"\"\n",
        "def n_func(env, a, K):\n",
        "    count = 0\n",
        "    for x in env:\n",
        "        match = all(x[k] == a[k] for k in range(K))  # all() returns True if all the first K bits are of x match the corresponding bits of a\n",
        "        if match:\n",
        "            count += 1\n",
        "    return count\n",
        "\n",
        "def nu_func(env, a, K, h):\n",
        "    return n_func(env, a, K)/h"
      ],
      "metadata": {
        "id": "Gyybk4QayuR_"
      },
      "execution_count": 9,
      "outputs": []
    },
    {
      "cell_type": "code",
      "source": [
        "def distinguish(env1, env2, K, h):\n",
        "    \"\"\"\n",
        "    Calculation of the distinguishability measure. Values between 0 and 1. Shows how the neuron distinguishes two envs.\n",
        "    0 -- complete indistingubility\n",
        "    1 -- complete distinguishibility\n",
        "    \"\"\"\n",
        "\n",
        "    d = 0.5 * sum(abs(nu_func(env1, a, K, h) - nu_func(env2, a, K, h)) for a in itertools.product([0, 1], repeat=K))\n",
        "    return d"
      ],
      "metadata": {
        "id": "RJaZ22e_zZry"
      },
      "execution_count": null,
      "outputs": []
    }
  ]
}